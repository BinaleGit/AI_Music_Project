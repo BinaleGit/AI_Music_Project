{
 "cells": [
  {
   "cell_type": "markdown",
   "metadata": {},
   "source": [
    "# This is my first AI application"
   ]
  },
  {
   "cell_type": "code",
   "execution_count": null,
   "metadata": {},
   "outputs": [],
   "source": [
    "import sys\n",
    "# !{sys.executable}  -m pip install -U pip\n",
    "# # Install scikit-image\n",
    "# !{sys.executable} -m  pip install pandas\n",
    "# !{sys.executable} -m pip install scikit-learn\n",
    "\n",
    "from sklearn.tree import DecisionTreeClassifier\n",
    "import pandas as pd\n",
    "music_dt  =pd.read_csv('music.csv')\n",
    "# music_dt.info()\n",
    "\n",
    "# prepare 2 groups (features, output)\n",
    "X=music_dt.drop(columns=['genre']) # sample features (age,gender)\n",
    "Y=music_dt['genre'] # sample output\n",
    "\n",
    "model = DecisionTreeClassifier()\n",
    "model.fit(X,Y) # load features and sample data\n",
    "predictions= model.predict([[21,1],[22,0]]) # make prediction base on the \n",
    "# HipHop ,Dance\n",
    "predictions"
   ]
  },
  {
   "cell_type": "markdown",
   "metadata": {},
   "source": [
    "# My second appliaction check accuracy"
   ]
  },
  {
   "cell_type": "code",
   "execution_count": 30,
   "metadata": {},
   "outputs": [
    {
     "data": {
      "text/plain": [
       "0.75"
      ]
     },
     "execution_count": 30,
     "metadata": {},
     "output_type": "execute_result"
    }
   ],
   "source": [
    "from sklearn.tree import DecisionTreeClassifier\n",
    "from sklearn.model_selection import train_test_split\n",
    "from sklearn.metrics import accuracy_score\n",
    "import pandas as pd\n",
    "\n",
    "# gather data\n",
    "music_dt  =pd.read_csv('music.csv')\n",
    "\n",
    "# display the data\n",
    "# music_dt\n",
    "\n",
    "# prepare 2 groups\n",
    "X=music_dt.drop(columns=['genre']) # sample features\n",
    "Y=music_dt['genre'] # sample output\n",
    "\n",
    "# X= input train,test, Y = output train, testing\n",
    "X_train,X_test,Y_train,Y_test= train_test_split(X,Y,test_size=.2)\n",
    "\n",
    "model = DecisionTreeClassifier()\n",
    "model.fit(X_train,Y_train) # load features and sample data\n",
    "predictions= model.predict(X_test) # make prediction base on the features and samp output\n",
    "score=accuracy_score(Y_test,predictions)\n",
    "score\n"
   ]
  },
  {
   "cell_type": "markdown",
   "metadata": {},
   "source": [
    "## Save the conclutions to a file - for fast reuse"
   ]
  },
  {
   "cell_type": "code",
   "execution_count": null,
   "metadata": {},
   "outputs": [],
   "source": [
    "from sklearn.tree import DecisionTreeClassifier\n",
    "from sklearn.model_selection import train_test_split\n",
    "from sklearn.metrics import accuracy_score\n",
    "import joblib\n",
    "\n",
    "# gather data\n",
    "music_dt  =pd.read_csv('music.csv')\n",
    "\n",
    "# prepare 2 groups (features, output)\n",
    "X=music_dt.drop(columns=['genre']) # sample features (age,gender)\n",
    "Y=music_dt['genre'] # sample output\n",
    "\n",
    "model = DecisionTreeClassifier()\n",
    "model.fit(X,Y) # load features and sample data\n",
    "\n",
    "\n",
    "joblib.dump(model, 'our_pridction.joblib') #binary file"
   ]
  },
  {
   "cell_type": "markdown",
   "metadata": {},
   "source": [
    "# Use the fit we learn before"
   ]
  },
  {
   "cell_type": "code",
   "execution_count": 36,
   "metadata": {},
   "outputs": [
    {
     "name": "stderr",
     "output_type": "stream",
     "text": [
      "c:\\Python\\Python312\\Lib\\site-packages\\sklearn\\base.py:493: UserWarning: X does not have valid feature names, but DecisionTreeClassifier was fitted with feature names\n",
      "  warnings.warn(\n"
     ]
    },
    {
     "data": {
      "text/plain": [
       "array(['HipHop'], dtype=object)"
      ]
     },
     "execution_count": 36,
     "metadata": {},
     "output_type": "execute_result"
    }
   ],
   "source": [
    "model=joblib.load( 'our_pridction.joblib')\n",
    "predictions= model.predict([[25,1]])\n",
    "predictions\n"
   ]
  }
 ],
 "metadata": {
  "kernelspec": {
   "display_name": "Python 3",
   "language": "python",
   "name": "python3"
  },
  "language_info": {
   "codemirror_mode": {
    "name": "ipython",
    "version": 3
   },
   "file_extension": ".py",
   "mimetype": "text/x-python",
   "name": "python",
   "nbconvert_exporter": "python",
   "pygments_lexer": "ipython3",
   "version": "3.12.0"
  }
 },
 "nbformat": 4,
 "nbformat_minor": 2
}
